{
  "nbformat": 4,
  "nbformat_minor": 0,
  "metadata": {
    "colab": {
      "name": "k-means-algorithm.ipynb",
      "provenance": [],
      "authorship_tag": "ABX9TyP74lbi0qxfOKUU8erQHYHR",
      "include_colab_link": true
    },
    "kernelspec": {
      "name": "python3",
      "display_name": "Python 3"
    },
    "language_info": {
      "name": "python"
    }
  },
  "cells": [
    {
      "cell_type": "markdown",
      "metadata": {
        "id": "view-in-github",
        "colab_type": "text"
      },
      "source": [
        "<a href=\"https://colab.research.google.com/github/ck46/kmeans/blob/main/k_means_algorithm.ipynb\" target=\"_parent\"><img src=\"https://colab.research.google.com/assets/colab-badge.svg\" alt=\"Open In Colab\"/></a>"
      ]
    },
    {
      "cell_type": "markdown",
      "metadata": {
        "id": "exy5ZUU_sfc9"
      },
      "source": [
        "# KMeans Algorithm"
      ]
    },
    {
      "cell_type": "code",
      "metadata": {
        "id": "ltNX-GU8sdBX"
      },
      "source": [
        "import numpy as np\n",
        "import matplotlib.pyplot as plt\n",
        "%matplotlib inline"
      ],
      "execution_count": 43,
      "outputs": []
    },
    {
      "cell_type": "code",
      "metadata": {
        "colab": {
          "base_uri": "https://localhost:8080/"
        },
        "id": "nVGJFn_BuSY5",
        "outputId": "2afc7ed6-9ce6-4acf-82c0-a5e577374a00"
      },
      "source": [
        "arr = np.random.rand(100,100)\n",
        "arr"
      ],
      "execution_count": 26,
      "outputs": [
        {
          "output_type": "execute_result",
          "data": {
            "text/plain": [
              "array([[0.82210216, 0.45835616, 0.6426287 , ..., 0.82327249, 0.72038435,\n",
              "        0.77522249],\n",
              "       [0.34419163, 0.49147903, 0.09291409, ..., 0.65888034, 0.41593261,\n",
              "        0.78146313],\n",
              "       [0.92331214, 0.90184754, 0.55091455, ..., 0.59849668, 0.69737859,\n",
              "        0.24941505],\n",
              "       ...,\n",
              "       [0.82842683, 0.03121084, 0.68038664, ..., 0.41229807, 0.44368658,\n",
              "        0.51696221],\n",
              "       [0.69110023, 0.62455361, 0.47355021, ..., 0.65406879, 0.48966549,\n",
              "        0.53643729],\n",
              "       [0.14283266, 0.06353415, 0.53079637, ..., 0.02451256, 0.3160555 ,\n",
              "        0.7768205 ]])"
            ]
          },
          "metadata": {
            "tags": []
          },
          "execution_count": 26
        }
      ]
    },
    {
      "cell_type": "code",
      "metadata": {
        "colab": {
          "base_uri": "https://localhost:8080/",
          "height": 283
        },
        "id": "HHP0EQe37Go_",
        "outputId": "2efacf80-6254-42ff-9faa-2eade604ffba"
      },
      "source": [
        "plt.scatter(arr[:, 0], arr[:, 1])"
      ],
      "execution_count": 46,
      "outputs": [
        {
          "output_type": "execute_result",
          "data": {
            "text/plain": [
              "<matplotlib.collections.PathCollection at 0x7f42c5008f50>"
            ]
          },
          "metadata": {
            "tags": []
          },
          "execution_count": 46
        },
        {
          "output_type": "display_data",
          "data": {
            "image/png": "[encoded data removed]",
            "text/plain": [
              "<Figure size 432x288 with 1 Axes>"
            ]
          },
          "metadata": {
            "tags": [],
            "needs_background": "light"
          }
        }
      ]
    },
    {
      "cell_type": "code",
      "metadata": {
        "id": "dukKdUjxse1I"
      },
      "source": [
        "# KMeans algorithm for 2D arrays\n",
        "class KMeans2D:\n",
        "  def __init__(self, k=10):\n",
        "    self.clusters = {i:[np.random.rand(), []] for i in range(k)}\n",
        "  \n",
        "  def train(self, arr, iters=100):\n",
        "    iter = 0\n",
        "    print(\"Training\", end='')\n",
        "    while iter < iters:\n",
        "      print('*', end='')\n",
        "      ## reset clusters\n",
        "      for c in self.clusters.keys():\n",
        "              self.clusters[c][1] = []\n",
        "      # Cluster assignment\n",
        "      for i in range(len(arr)):\n",
        "        for j in range(len(arr[0])):\n",
        "          n = arr[i][j]   \n",
        "          min_distance = float('inf')\n",
        "          for c in self.clusters.keys():\n",
        "              d = abs(n - self.clusters[c][0])\n",
        "              if d < min_distance:\n",
        "                  centroid = c\n",
        "                  min_distance = d\n",
        "          self.clusters[centroid][1].append(n)\n",
        "      # Move centroids \n",
        "      for c in self.clusters.keys():\n",
        "          cluster = self.clusters[c][1]\n",
        "          if len(cluster) == 0:\n",
        "              self.clusters[c][0] = np.random.rand()\n",
        "          else:\n",
        "              self.clusters[c][0] = np.mean(cluster)\n",
        "      iter += 1\n",
        "    print(\"done!\")\n",
        "    return self.clusters\n",
        "\n",
        "  def predict_n(self, n):\n",
        "    min_distance = float('inf')\n",
        "    for c in self.clusters.keys():\n",
        "        d = abs(n - self.clusters[c][0])\n",
        "        if d < min_distance:\n",
        "            centroid_id = c\n",
        "            min_distance = d\n",
        "    return centroid_id\n",
        "  \n",
        "  def predict_arr(self, arr):\n",
        "    min_distance = float('inf')\n",
        "    centroids = np.zeros(arr.shape)\n",
        "    for i in range(len(arr)):\n",
        "      for j in range(len(arr[0])):\n",
        "        n = arr[i][j]   \n",
        "        min_distance = float('inf')\n",
        "        for c in self.clusters.keys():\n",
        "            d = abs(n - self.clusters[c][0])\n",
        "            if d < min_distance:\n",
        "                centroid = c\n",
        "                min_distance = d\n",
        "        centroids[i][j] = centroid\n",
        "    return centroids"
      ],
      "execution_count": 56,
      "outputs": []
    },
    {
      "cell_type": "code",
      "metadata": {
        "colab": {
          "base_uri": "https://localhost:8080/"
        },
        "id": "jkzsbV8PseVX",
        "outputId": "eef53669-ffe1-4ff3-c987-c4027d1fd843"
      },
      "source": [
        "k_means_2d = KMeans2D(10)\n",
        "clusters = k_means_2d.train(arr, 100)"
      ],
      "execution_count": 57,
      "outputs": [
        {
          "output_type": "stream",
          "text": [
            "Training****************************************************************************************************done!\n"
          ],
          "name": "stdout"
        }
      ]
    },
    {
      "cell_type": "code",
      "metadata": {
        "colab": {
          "base_uri": "https://localhost:8080/"
        },
        "id": "7bOkxV5TxNdk",
        "outputId": "99aee2f7-e32d-4fbf-da96-ec85ab3eacb2"
      },
      "source": [
        "for k in clusters.keys():\n",
        "  print(f\"Cluster id: {k}, Centroid: {clusters[k][0]}\") # cluster (id, centroids)"
      ],
      "execution_count": 58,
      "outputs": [
        {
          "output_type": "stream",
          "text": [
            "Cluster id: 0, Centroid: 0.7187382473945266\n",
            "Cluster id: 1, Centroid: 0.8264353617687917\n",
            "Cluster id: 2, Centroid: 0.314791054168676\n",
            "Cluster id: 3, Centroid: 0.5084487069472057\n",
            "Cluster id: 4, Centroid: 0.9416387391136753\n",
            "Cluster id: 5, Centroid: 0.6146929830206372\n",
            "Cluster id: 6, Centroid: 0.04443757298128017\n",
            "Cluster id: 7, Centroid: 0.1356010230781816\n",
            "Cluster id: 8, Centroid: 0.22450860652255883\n",
            "Cluster id: 9, Centroid: 0.40892360824236035\n"
          ],
          "name": "stdout"
        }
      ]
    },
    {
      "cell_type": "code",
      "metadata": {
        "colab": {
          "base_uri": "https://localhost:8080/"
        },
        "id": "_64UJ3WJywol",
        "outputId": "6c00948d-a465-4ebc-da05-bf0223433362"
      },
      "source": [
        "labels = k_means_2d.predict_arr(arr)\n",
        "labels"
      ],
      "execution_count": 59,
      "outputs": [
        {
          "output_type": "execute_result",
          "data": {
            "text/plain": [
              "array([[1., 9., 5., ..., 1., 0., 1.],\n",
              "       [2., 3., 7., ..., 5., 9., 1.],\n",
              "       [4., 4., 3., ..., 5., 0., 8.],\n",
              "       ...,\n",
              "       [1., 6., 0., ..., 9., 9., 3.],\n",
              "       [0., 5., 3., ..., 5., 3., 3.],\n",
              "       [7., 6., 3., ..., 6., 2., 1.]])"
            ]
          },
          "metadata": {
            "tags": []
          },
          "execution_count": 59
        }
      ]
    }
  ]
}